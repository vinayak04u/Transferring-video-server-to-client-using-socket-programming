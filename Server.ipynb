{
 "cells": [
  {
   "cell_type": "markdown",
   "metadata": {},
   "source": [
    "# SERVER SIDE"
   ]
  },
  {
   "cell_type": "code",
   "execution_count": null,
   "metadata": {},
   "outputs": [],
   "source": [
    "import numpy as np\n",
    "import socket as s\n",
    "import cv2\n",
    "import pickle\n",
    "import struct"
   ]
  },
  {
   "cell_type": "code",
   "execution_count": null,
   "metadata": {},
   "outputs": [],
   "source": [
    "#making socket using by using tcp protocol and using IP Address as address identification\n",
    "myp =  s.SOCK_STREAM\n",
    "afn = s.AF_INET\n",
    "add_pro = s.socket(afn , myp)"
   ]
  },
  {
   "cell_type": "code",
   "execution_count": null,
   "metadata": {},
   "outputs": [],
   "source": [
    "#Binding IP Address and Port No \n",
    "myip = \"192.168.43.198\"  #server ip\n",
    "port = 1234              #server port\n",
    "bind = add_pro.bind((myip , port))        #Binding ip and port\n",
    "add_pro.listen()       #Starting Listen means start connection"
   ]
  },
  {
   "cell_type": "code",
   "execution_count": null,
   "metadata": {},
   "outputs": [],
   "source": [
    "while True:\n",
    "    c , addr = add_pro.accept() \n",
    "    if c:\n",
    "        cv = cv2.VideoCapture(0)  \n",
    "        while(cv.isOpened()):\n",
    "            ret , photo = cv.read()\n",
    "            a = pickle.dumps(photo)\n",
    "            message = struct.pack(\"Q\",len(a))+a\n",
    "            c.sendall(message)\n",
    "            cv2.imshow(\"Server Side\" ,photo)\n",
    "            key = cv2.waitKey(1) & 0xFF\n",
    "            if cv2.waitKey(1) == 13:\n",
    "                cv2.destroyAllWindows()\n",
    "                c.close()\n",
    "                break\n",
    "cv.release()       "
   ]
  },
  {
   "cell_type": "code",
   "execution_count": null,
   "metadata": {},
   "outputs": [],
   "source": []
  }
 ],
 "metadata": {
  "kernelspec": {
   "display_name": "Python 3",
   "language": "python",
   "name": "python3"
  },
  "language_info": {
   "codemirror_mode": {
    "name": "ipython",
    "version": 3
   },
   "file_extension": ".py",
   "mimetype": "text/x-python",
   "name": "python",
   "nbconvert_exporter": "python",
   "pygments_lexer": "ipython3",
   "version": "3.8.5"
  }
 },
 "nbformat": 4,
 "nbformat_minor": 4
}
